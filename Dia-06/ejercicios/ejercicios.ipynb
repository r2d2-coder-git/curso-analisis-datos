{
 "cells": [
  {
   "cell_type": "markdown",
   "metadata": {},
   "source": [
    "## Introducción\n",
    "\n",
    "En estos ejercicios vamos a trabajar con los datasets alojado en la ruta del curso **/Dia-06/datasets/marvel-wikia-data.csv** representa el conjunto de personajes de Marvel en sus cómics con características de cada uno de ellos.\n",
    "\n",
    "Las columnas del dataframe significan lo siguiente:\n",
    "\n",
    "1. `page_id`: Identificador único de la página del personaje dentro de la wikia.  \n",
    "2. `name`: Nombre del personaje.  \n",
    "3. `urlslug`: URL única dentro de la wikia que lleva a la página del personaje.  \n",
    "4. `ID`: Estado de identidad del personaje (Identidad secreta, pública, o sin identidad dual en Marvel).  \n",
    "5. `ALIGN`: Alineación del personaje (Bueno, Malo o Neutral).  \n",
    "6. `EYE`: Color de ojos del personaje.  \n",
    "7. `HAIR`: Color de cabello del personaje.  \n",
    "8. `SEX`: Sexo del personaje (e.g. Masculino, Femenino, etc.).  \n",
    "9. `GSM`: Indica si el personaje pertenece a una minoría de género o sexual (e.g. Homosexual, Bisexual).  \n",
    "10. `ALIVE`: Indica si el personaje está vivo o fallecido.  \n",
    "11. `APPEARANCES`: Número de apariciones del personaje en cómics (al 2 de septiembre de 2014; el número puede estar desactualizado).  \n",
    "12. `FIRST APPEARANCE`: Mes y año de la primera aparición del personaje en un cómic, si está disponible.  \n",
    "13. `YEAR`: Año de la primera aparición del personaje en un cómic, si está disponible.  \n",
    "\n",
    "\n",
    "Ejecuta la siguiente celda para el dataframe con el contenido del dataset."
   ]
  },
  {
   "cell_type": "markdown",
   "metadata": {},
   "source": [
    "### EJERCICIO 1. Gráfico de tendencia: Evolución de la cantidad de personajes creados por año\n",
    "\n",
    "* Analiza la cantidad de personajes creados cada año (YEAR).\n",
    "* Crea un gráfico de línea que muestre la evolución del número de personajes creados a lo largo del tiempo."
   ]
  },
  {
   "cell_type": "code",
   "execution_count": null,
   "metadata": {},
   "outputs": [],
   "source": [
    "import pandas as pd\n",
    "import seaborn as sns\n",
    "import matplotlib.pyplot as plt\n",
    "\n",
    "df_marvel = pd.read_csv(\"../datasets/marvel-wikia-data.csv\", index_col=0)"
   ]
  },
  {
   "cell_type": "code",
   "execution_count": null,
   "metadata": {},
   "outputs": [],
   "source": []
  },
  {
   "cell_type": "markdown",
   "metadata": {},
   "source": [
    "### EJERCICIO 2. Mapa de calor: Relación entre alineación y estado vivo/fallecido\n",
    "\n",
    "* Analiza la relación entre la alineación del personaje (ALIGN) y su estado (ALIVE).\n",
    "* Muestra un mapa de calor que cuente cuántos personajes de cada tipo (Bueno, Malo, Neutral) están vivos o fallecidos."
   ]
  },
  {
   "cell_type": "code",
   "execution_count": null,
   "metadata": {},
   "outputs": [],
   "source": []
  },
  {
   "cell_type": "markdown",
   "metadata": {},
   "source": [
    "### EJERCICIO 3. Histograma: Distribución del número de apariciones de los personajes\n",
    "\n",
    "* Analiza cómo se distribuyen las apariciones de los personajes (APPEARANCES).\n",
    "* Crea un histograma que muestre la frecuencia de personajes según su número de apariciones."
   ]
  },
  {
   "cell_type": "code",
   "execution_count": null,
   "metadata": {},
   "outputs": [],
   "source": [
    "\n"
   ]
  }
 ],
 "metadata": {
  "kernelspec": {
   "display_name": "Python 3",
   "language": "python",
   "name": "python3"
  },
  "language_info": {
   "codemirror_mode": {
    "name": "ipython",
    "version": 3
   },
   "file_extension": ".py",
   "mimetype": "text/x-python",
   "name": "python",
   "nbconvert_exporter": "python",
   "pygments_lexer": "ipython3",
   "version": "3.9.9"
  }
 },
 "nbformat": 4,
 "nbformat_minor": 2
}
