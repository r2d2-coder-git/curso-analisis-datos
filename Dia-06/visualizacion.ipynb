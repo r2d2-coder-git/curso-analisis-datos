{
 "cells": [
  {
   "cell_type": "markdown",
   "metadata": {},
   "source": [
    "# **VISUALIZACIÓN DE DATOS**\n",
    "\n",
    "1. Instalación de seaborn\n",
    "\n",
    "2. Gráficos de tendencia\n",
    "\n",
    "3. Mapas de calor\n",
    "\n",
    "4. Gráficos de distribución\n",
    "\n",
    "\n",
    "<img src=\"../imgs/seaborn.png\" width=\"500px\" height=\"300px\">"
   ]
  },
  {
   "cell_type": "markdown",
   "metadata": {},
   "source": [
    "### **1. Instalación de Seaborn**"
   ]
  },
  {
   "cell_type": "markdown",
   "metadata": {},
   "source": []
  },
  {
   "cell_type": "code",
   "execution_count": null,
   "metadata": {},
   "outputs": [],
   "source": [
    "%pip install seaborn"
   ]
  },
  {
   "cell_type": "markdown",
   "metadata": {},
   "source": [
    "### **2. Gráficos de tendencia**\n",
    "\n",
    "**Descripción:**\n",
    "\n",
    "Los gráficos de tendencia se utilizan para representar cómo cambia una variable a lo largo del tiempo o en función de un orden secuencial.\n",
    "\n",
    "La variable independiente suele ser el tiempo (días, meses, años) u otra métrica ordenada.\n",
    "La variable dependiente muestra el valor que se analiza (ventas, temperatura, visitas, etc.).\n",
    "\n",
    "**Ejemplos comunes:**\n",
    "\n",
    "Gráficos de líneas (line charts).\n",
    "Gráficos de áreas para resaltar acumulaciones.\n",
    "\n",
    "**Uso principal:**\n",
    "\n",
    "Analizar patrones temporales: estacionalidad, crecimiento, decrecimiento.\n",
    "Identificar picos, tendencias generales o anomalías en los datos.\n",
    "Aplicaciones:\n",
    "\n",
    "Seguimiento de métricas de negocio (ventas mensuales, visitas diarias).\n",
    "Análisis de fenómenos naturales (temperatura, lluvias).\n"
   ]
  },
  {
   "cell_type": "code",
   "execution_count": null,
   "metadata": {},
   "outputs": [],
   "source": [
    "import pandas as pd\n",
    "import seaborn as sns\n",
    "import matplotlib.pyplot as plt"
   ]
  },
  {
   "cell_type": "markdown",
   "metadata": {},
   "source": [
    "El dataset que vamos a utilizar es sobre películas y series de Netflix, se encuentra en la carpeta: **Dia-05/datasets/netflix_titles.csv**"
   ]
  },
  {
   "cell_type": "code",
   "execution_count": null,
   "metadata": {},
   "outputs": [],
   "source": [
    "df_netflix = pd.read_csv(\"datasets/netflix_titles.csv\", index_col=0)\n",
    "pd.set_option('display.max_rows', 5)\n",
    "\n",
    "df_netflix.head(10)"
   ]
  },
  {
   "cell_type": "markdown",
   "metadata": {},
   "source": [
    "#### 2.1. Tendencia del número de lanzamientos por año\n",
    "\n",
    "Podemos analizar cuántos títulos (películas o programas de TV) se lanzaron cada año. Este gráfico muestra tendencias generales en la producción."
   ]
  },
  {
   "cell_type": "code",
   "execution_count": null,
   "metadata": {},
   "outputs": [],
   "source": [
    "# Parámetros del gráfico de línea:\n",
    "# data=launches_per_year: DataFrame que contiene los datos a graficar.\n",
    "# x='release_year': Columna utilizada para el eje X (año de lanzamiento).\n",
    "# y='count': Columna utilizada para el eje Y (número de lanzamientos por año).\n",
    "\n",
    "\n",
    "# Filtrar los datos para agrupar por año de lanzamiento\n",
    "launches_per_year = df_netflix.groupby('release_year').size().reset_index(name='count')\n",
    "launches_per_year.tail()\n",
    "# Gráfico de línea\n",
    "plt.title('Tendencia de lanzamientos por año')\n",
    "plt.xlabel('Año de lanzamiento')\n",
    "plt.ylabel('Número de títulos')\n",
    "\n",
    "sns.lineplot(data=launches_per_year, x='release_year', y='count')\n"
   ]
  },
  {
   "cell_type": "code",
   "execution_count": null,
   "metadata": {},
   "outputs": [],
   "source": [
    "# Agregar etiquetas solo para cada 5 años\n",
    "\"\"\"\n",
    "plt.txt\n",
    "\n",
    "x: La coordenada en el eje x donde se colocará el texto.\n",
    "y: La coordenada en el eje y donde se colocará el texto.\n",
    "s: El texto que deseas mostrar.\n",
    "**kwargs: Argumentos opcionales para personalizar el estilo del texto.\n",
    "\"\"\"\n",
    "\n",
    "for i in range(len(launches_per_year)):\n",
    "    if launches_per_year['release_year'][i] % 5 == 0:  # Etiquetar cada 5 años\n",
    "        plt.text(\n",
    "            launches_per_year['release_year'][i],   # Coordenada x\n",
    "            launches_per_year['count'][i] + 1,     # Coordenada y\n",
    "            f\"{launches_per_year['release_year'][i]}\", # Texto\n",
    "            horizontalalignment='center', size=8\n",
    "        )\n",
    "sns.lineplot(data=launches_per_year, x='release_year', y='count')"
   ]
  },
  {
   "cell_type": "markdown",
   "metadata": {},
   "source": [
    "#### 2.2. Tendencia de duración promedio de películas por año\n",
    "Podemos analizar cómo ha cambiado la duración promedio de las películas a lo largo del tiempo. Para esto, primero necesitamos limpiar la columna duration."
   ]
  },
  {
   "cell_type": "code",
   "execution_count": null,
   "metadata": {},
   "outputs": [],
   "source": [
    "# Filtrar solo películas y limpiar la columna \"duration\"\n",
    "movies = df_netflix[df_netflix['type'] == 'Movie']\n",
    "movies['duration'] = movies['duration'].str.replace(' min', '').astype(float)\n",
    "\n",
    "# Calcular la duración promedio por año\n",
    "avg_duration_per_year = movies.groupby('release_year')['duration'].mean().reset_index()\n",
    "\n",
    "# Gráfico de línea\n",
    "plt.title('Duración promedio de películas por año')\n",
    "plt.xlabel('Año de lanzamiento')\n",
    "plt.ylabel('Duración promedio (minutos)')\n",
    "sns.lineplot(data=avg_duration_per_year, x='release_year', y='duration')\n"
   ]
  },
  {
   "cell_type": "markdown",
   "metadata": {},
   "source": [
    "#### 2.3. Evolución del número de títulos por país\n",
    "\n",
    "Podemos analizar cómo ha cambiado la cantidad de títulos producidos por ciertos países en el tiempo."
   ]
  },
  {
   "cell_type": "code",
   "execution_count": null,
   "metadata": {},
   "outputs": [],
   "source": [
    "# Parámetros del gráfico de línea:\n",
    "# data=country_trend: DataFrame que contiene los datos a graficar.\n",
    "# x='release_year': Columna utilizada para el eje X (año de lanzamiento).\n",
    "# y='count': Columna utilizada para el eje Y (número de títulos lanzados por año).\n",
    "# hue='country': Diferencia las líneas por país, asignando un color único a cada país.\n",
    "\n",
    "# Filtrar los países más frecuentes\n",
    "top_countries = df_netflix['country'].value_counts().head(5).index\n",
    "country_trend = df_netflix[df_netflix['country'].isin(top_countries)].groupby(['release_year', 'country']).size().reset_index(name='count')\n",
    "\n",
    "# Gráfico de línea\n",
    "plt.title('Evolución del número de títulos por país')\n",
    "plt.xlabel('Año de lanzamiento')\n",
    "plt.ylabel('Número de títulos')\n",
    "plt.legend(title='País', loc='upper left')\n",
    "sns.lineplot(data=country_trend, x='release_year', y='count', hue='country')\n"
   ]
  },
  {
   "cell_type": "markdown",
   "metadata": {},
   "source": [
    "### **3. Mapas de calor**\n"
   ]
  },
  {
   "cell_type": "markdown",
   "metadata": {},
   "source": [
    "Estos gráficos exploran cómo dos o más variables están relacionadas, permitiendo identificar correlaciones o rangos de valores entre variables.\n",
    "\n",
    "**Aplicaciones:**\n",
    "\n",
    "Relación entre ingresos y nivel educativo.\n",
    "Relación entre precio y demanda de un producto."
   ]
  },
  {
   "cell_type": "markdown",
   "metadata": {},
   "source": [
    "#### 3.1. Relación entre la duración y género de las películas\n",
    "Podemos explorar si ciertos géneros están asociados con películas más largas o más cortas."
   ]
  },
  {
   "cell_type": "code",
   "execution_count": null,
   "metadata": {},
   "outputs": [],
   "source": [
    "# Parámetros del gráfico de mapa de calor:\n",
    "# heatmap_data: DataFrame o matriz que contiene los datos para representar en el mapa de calor.\n",
    "# annot=True: Muestra los valores numéricos en cada celda del mapa.\n",
    "# fmt=\".1f\": Formato del texto de las celdas; \".1f\" significa un decimal (e.g., 75.5).\n",
    "# cmap='coolwarm': Paleta de colores que va de azul (valores bajos) a rojo (valores altos).\n",
    "# cbar_kws={'label': 'Duración promedio (minutos)'}: Personalización de la barra de color (cbar), \n",
    "#         en este caso agregando una etiqueta descriptiva (\"Duración promedio (minutos)\").\n",
    "\n",
    "\n",
    "\n",
    "movies = df_netflix[df_netflix['type'] == 'Movie']\n",
    "movies['duration'] = movies['duration'].str.replace(' min', '').astype(float)\n",
    "\n",
    "# Dividir los géneros y tomar el primero listado en \"listed_in\"\n",
    "movies['genre'] = movies['listed_in'].str.split(',').str[0]\n",
    "\n",
    "# Agrupar por género y calcular la duración promedio de las películas\n",
    "genre_duration = movies.groupby('genre')['duration'].mean().reset_index()\n",
    "\n",
    "# Crear un DataFrame pivotado para el mapa de calor\n",
    "heatmap_data = genre_duration.pivot_table(index='genre', values='duration')\n",
    "\n",
    "# Crear el mapa de calor\n",
    "plt.title('Relación entre Género y Duración Promedio (Ordenado)')\n",
    "plt.xlabel('Duración')\n",
    "plt.ylabel('Género')\n",
    "\n",
    "sns.heatmap(heatmap_data, annot=True, fmt=\".1f\", cmap='coolwarm', cbar_kws={'label': 'Duración promedio (minutos)'})\n"
   ]
  },
  {
   "cell_type": "markdown",
   "metadata": {},
   "source": [
    "**Interpretación:**\n",
    "\n",
    "**Duraciones más largas:**\n",
    "\n",
    "Géneros como Action & Adventure (113.3 minutos), Classic Movies (112.4 minutos), y Dramas (111.8 minutos) tienen la duración promedio más alta.\n",
    "\n",
    "**Duraciones más cortas:**\n",
    "\n",
    "Géneros como Movies (45.9 minutos) y Stand-Up Comedy (66.6 minutos) tienen las duraciones más bajas, lo que es esperado para cortometrajes y espectáculos de comedia.\n",
    "\n",
    "**Tendencia general:**\n",
    "\n",
    "Los géneros más orientados a historias elaboradas o épicas tienden a ser más largos (Action & Adventure, Dramas, Sci-Fi & Fantasy).\n",
    "Géneros ligeros o específicos (Stand-Up Comedy, Children & Family Movies) son más cortos.\n",
    "Conclusión: La duración promedio de las películas varía significativamente según el género, reflejando las diferencias en narrativa, público objetivo y formato."
   ]
  },
  {
   "cell_type": "markdown",
   "metadata": {},
   "source": [
    "### **4. Gráficos de distribución**\n"
   ]
  },
  {
   "cell_type": "markdown",
   "metadata": {},
   "source": [
    "**Descripción:**\n",
    "\n",
    "Estos gráficos muestran cómo los valores de una variable se distribuyen dentro de un rango.\n",
    "\n",
    "Ayudan a entender la forma, dispersión y centralización de los datos.\n",
    "\n",
    "**Ejemplos comunes:**\n",
    "\n",
    "Histogramas.\n",
    "Gráficos de densidad (KDE plots).\n",
    "Boxplots (gráficos de caja) para visualizar cuartiles y valores atípicos.\n",
    "\n",
    "**Uso principal:**\n",
    "\n",
    "Identificar patrones de distribución: normal, sesgada, multimodal.\n",
    "Detectar valores atípicos y rangos más comunes.\n",
    "\n",
    "**Aplicaciones:**\n",
    "\n",
    "Distribución de edades en una población.\n",
    "Análisis de ingresos de empleados en una empresa."
   ]
  },
  {
   "cell_type": "markdown",
   "metadata": {},
   "source": [
    "#### 4.1. Distribución del número de temporadas de programas de TV\n",
    "Para los programas de TV, podemos analizar cómo se distribuyen el número de temporadas."
   ]
  },
  {
   "cell_type": "code",
   "execution_count": null,
   "metadata": {},
   "outputs": [],
   "source": [
    "# Parámetros del gráfico de histograma:\n",
    "# data=tv_shows: DataFrame que contiene los datos para graficar (solo programas de TV).\n",
    "# x='seasons': Columna utilizada para el eje X (número de temporadas de los programas de TV).\n",
    "# bins=15: Divide el rango de datos en 15 intervalos (bins) para el histograma.\n",
    "# kde=False: No muestra la curva de densidad, solo las barras del histograma.\n",
    "# color='purple': Especifica el color de las barras del histograma.\n",
    "\n",
    "# Filtrar únicamente los programas de TV\n",
    "tv_shows = df_netflix[df_netflix['type'] == 'TV Show']\n",
    "\n",
    "# Limpiar y transformar la columna 'duration' para obtener el número de temporadas\n",
    "tv_shows['seasons'] = tv_shows['duration'].str.replace(' Season', '').str.replace('s', '').astype(int)\n",
    "\n",
    "\n",
    "# Personalización del gráfico\n",
    "plt.title('Distribución del número de temporadas de programas de TV', fontsize=14)\n",
    "plt.xlabel('Número de temporadas', fontsize=12)\n",
    "plt.ylabel('Frecuencia', fontsize=12)\n",
    "sns.histplot(data=tv_shows, x='seasons', bins=15, color='purple')\n"
   ]
  }
 ],
 "metadata": {
  "kernelspec": {
   "display_name": "Python 3",
   "language": "python",
   "name": "python3"
  },
  "language_info": {
   "codemirror_mode": {
    "name": "ipython",
    "version": 3
   },
   "file_extension": ".py",
   "mimetype": "text/x-python",
   "name": "python",
   "nbconvert_exporter": "python",
   "pygments_lexer": "ipython3",
   "version": "3.9.9"
  }
 },
 "nbformat": 4,
 "nbformat_minor": 2
}
