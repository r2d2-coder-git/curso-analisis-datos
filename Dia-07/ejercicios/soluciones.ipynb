{
 "cells": [
  {
   "cell_type": "markdown",
   "metadata": {},
   "source": [
    "# PROYECTO FINAL: ANÁLISIS DE ARTISTAS EN SPOTIFY Y YOUTUBE\n",
    "\n",
    "# Descripción de Columnas del Dataset\n",
    "\n",
    "| Columna             | Descripción |\n",
    "|---------------------|-------------|\n",
    "| **Artist**         | Nombre del artista o banda que interpreta la canción. |\n",
    "| **Url_spotify**    | URL de la canción en Spotify. |\n",
    "| **Track**          | Nombre de la canción. |\n",
    "| **Album**          | Nombre del álbum en el que se encuentra la canción. |\n",
    "| **Album_type**     | Tipo de álbum (por ejemplo, \"album\", \"single\", \"compilation\"). |\n",
    "| **Uri**            | URI de Spotify que identifica de manera única la canción. |\n",
    "| **Danceability**   | Medida (de 0 a 1) que indica qué tan bailable es la canción, basada en ritmo, estabilidad del tempo y beat. |\n",
    "| **Energy**        | Medida (de 0 a 1) que representa la intensidad y actividad de la canción (valores altos corresponden a canciones más dinámicas). |\n",
    "| **Key**           | Tono musical de la canción representado en un número entero (0 = Do, 1 = Do#, ..., 11 = Si). |\n",
    "| **Loudness**      | Nivel de volumen de la canción en decibelios (dB). |\n",
    "| **Speechiness**   | Medida (de 0 a 1) que indica la cantidad de palabras habladas en la canción (valores altos indican que es más una grabación hablada que cantada). |\n",
    "| **Acousticness**  | Medida (de 0 a 1) que evalúa la probabilidad de que la canción sea acústica (valores altos indican mayor presencia de instrumentos acústicos). |\n",
    "| **Instrumentalness** | Medida (de 0 a 1) que indica la presencia de voces en la canción (valores altos indican menor presencia vocal). |\n",
    "| **Liveness**      | Medida (de 0 a 1) que estima si la canción fue grabada en vivo (valores altos sugieren una grabación en directo). |\n",
    "| **Valence**       | Medida (de 0 a 1) que describe la positividad musical de la canción (valores altos corresponden a canciones más alegres). |\n",
    "| **Tempo**        | Velocidad de la canción en beats per minute (BPM). |\n",
    "| **Duration_ms**  | Duración de la canción en milisegundos. |\n",
    "| **Url_youtube**  | URL de la canción en YouTube. |\n",
    "| **Title**        | Título de la canción en YouTube. |\n",
    "| **Channel**      | Nombre del canal de YouTube donde está publicada la canción. |\n",
    "| **Views**        | Número de visualizaciones de la canción en YouTube. |\n",
    "| **Likes**        | Número de \"me gusta\" en YouTube. |\n",
    "| **Comments**     | Número de comentarios en YouTube. |\n",
    "| **Description**  | Descripción proporcionada en el video de YouTube. |\n",
    "| **Licensed**     | Indica si el contenido en YouTube está licenciado oficialmente (True/False). |\n",
    "| **official_video** | Indica si el video en YouTube es el video oficial del artista (True/False). |\n",
    "| **Stream**       | Número total de reproducciones de la canción en plataformas de streaming. |"
   ]
  },
  {
   "cell_type": "markdown",
   "metadata": {},
   "source": [
    "## Ejercicio 1: Limpieza de Datos\n",
    "\n",
    "Identifica las columnas con valores nulos y sigue estas reglas:\n",
    "\n",
    "* Si una columna tiene más del 50% de valores nulos, elimínala.\n",
    "* Para columnas numéricas con valores nulos, reemplázalos por la mediana.\n",
    "* Para columnas categóricas con valores nulos, reemplázalos por el valor más frecuente.\n",
    "* Cambia los tipos de datos de las siguientes columnas:\n",
    "* Convierte \"Key\" y \"Tempo\" a tipo entero.\n",
    "* Convierte \"Views\", \"Likes\", \"Comments\", y \"Stream\" a tipo flotante.\n",
    "* Guarda el dataset limpio en una variable llamada data_cleaned."
   ]
  },
  {
   "cell_type": "code",
   "execution_count": null,
   "metadata": {},
   "outputs": [],
   "source": [
    "import pandas as pd\n",
    "import seaborn as sns\n",
    "import matplotlib.pyplot as plt\n",
    "\n",
    "data = pd.read_csv(\"../datasets/Spotify_Youtube.csv\", index_col=0)\n"
   ]
  },
  {
   "cell_type": "code",
   "execution_count": null,
   "metadata": {},
   "outputs": [],
   "source": [
    "# Implementación del Ejercicio 1: Limpieza de Datos\n",
    "\n",
    "# 1. Identificar las columnas con valores nulos\n",
    "null_counts = data.isnull().sum()\n",
    "\n",
    "# Eliminar columnas con más del 50% de valores nulos\n",
    "columns_to_drop = null_counts[null_counts > (0.5 * len(data))].index\n",
    "data_cleaned = data.drop(columns=columns_to_drop)\n",
    "\n",
    "# 2. Reemplazar valores nulos en columnas numéricas con la mediana\n",
    "numeric_columns = data_cleaned.select_dtypes(include=['float64', 'int64']).columns\n",
    "for col in numeric_columns:\n",
    "    if data_cleaned[col].isnull().sum() > 0:\n",
    "        data_cleaned[col].fillna(data_cleaned[col].median(), inplace=True)\n",
    "\n",
    "# Reemplazar valores nulos en columnas categóricas con el valor más frecuente\n",
    "categorical_columns = data_cleaned.select_dtypes(include=['object']).columns\n",
    "for col in categorical_columns:\n",
    "    if data_cleaned[col].isnull().sum() > 0:\n",
    "        data_cleaned[col].fillna(data_cleaned[col].mode()[0], inplace=True)\n",
    "\n",
    "# 3. Cambiar los tipos de datos de las columnas especificadas\n",
    "# Convierte \"Key\" y \"Tempo\" a tipo entero\n",
    "if 'Key' in data_cleaned.columns:\n",
    "    data_cleaned['Key'] = data_cleaned['Key'].astype('int', errors='ignore')\n",
    "\n",
    "if 'Tempo' in data_cleaned.columns:\n",
    "    data_cleaned['Tempo'] = data_cleaned['Tempo'].astype('int', errors='ignore')\n",
    "\n",
    "# Convierte \"Views\", \"Likes\", \"Comments\" y \"Stream\" a tipo flotante\n",
    "float_columns = ['Views', 'Likes', 'Comments', 'Stream']\n",
    "for col in float_columns:\n",
    "    if col in data_cleaned.columns:\n",
    "        data_cleaned[col] = data_cleaned[col].astype('float', errors='ignore')\n",
    "\n",
    "# Mostrar un resumen del dataset limpio\n",
    "data_cleaned.info()"
   ]
  },
  {
   "cell_type": "markdown",
   "metadata": {},
   "source": [
    "## Ejercicio 2: Análisis Descriptivo del dataset Limpio\n",
    "\n",
    "Utilizando data_cleaned, calcula las siguientes estadísticas descriptivas para las columnas \"Views\", \"Likes\", \"Comments\", y \"Stream\":\n",
    "\n",
    "* Media, mediana, desviación estándar, mínimo, y máximo.\n",
    "* Guarda estas estadísticas en un dataFrame llamado descriptive_stats.\n",
    "* Filtra todas las canciones con más de 500 millones de visualizaciones (\"Views\") y guarda este subconjunto en top_youtube."
   ]
  },
  {
   "cell_type": "code",
   "execution_count": null,
   "metadata": {},
   "outputs": [],
   "source": [
    "# Ejercicio 2: Análisis Descriptivo del Dataset Limpio\n",
    "\n",
    "# Calcular estadísticas descriptivas para las columnas numéricas\n",
    "descriptive_stats = data_cleaned[['Views', 'Likes', 'Comments', 'Stream']].describe()\n",
    "\n",
    "# Filtrar canciones con más de 500 millones de visualizaciones\n",
    "top_youtube = data_cleaned[data_cleaned['Views'] > 500000000]\n",
    "\n",
    "print(descriptive_stats)\n"
   ]
  },
  {
   "cell_type": "markdown",
   "metadata": {},
   "source": [
    "## Ejercicio 3: Creación de Nuevas Columnas y Análisis por Grupo\n",
    "\n",
    "**Utiliza el dataFrame top_youtube.** \n",
    "\n",
    "* Crea una nueva columna llamada \"Likes_to_Views\" que represente la proporción de \"Likes\" respecto a \"Views\", con dos decimales.\n",
    "* Agrupa las canciones de top_youtube por \"Album_type\" y calcula:\n",
    "* Promedio y mediana de \"Energy\" y \"Danceability\".\n",
    "* Total de \"Views\" y \"Stream\" por tipo de álbum.\n",
    "* Guarda el resultado de la agrupación en un nuevo dataFrame llamado album_analysis."
   ]
  },
  {
   "cell_type": "code",
   "execution_count": null,
   "metadata": {},
   "outputs": [],
   "source": [
    "# Crear la nueva columna \"Likes_to_Views\" como proporción de Likes respecto a Views\n",
    "top_youtube['Likes_to_Views'] = (top_youtube['Likes'] / top_youtube['Views']).round(2)\n",
    "\n",
    "# Agrupar por \"Album_type\" y calcular estadísticas\n",
    "album_analysis = top_youtube.groupby('Album_type').agg({\n",
    "    'Energy': ['mean', 'median'],\n",
    "    'Danceability': ['mean', 'median'],\n",
    "    'Views': 'sum',\n",
    "    'Stream': 'sum'\n",
    "}).reset_index()\n",
    "\n",
    "print(album_analysis.head())\n"
   ]
  },
  {
   "cell_type": "markdown",
   "metadata": {},
   "source": [
    "## Ejercicio 4: Identificación de Canciones con Baja Proporción de Likes\n",
    "\n",
    "**Utiliza el dataFrame top_youtube.**\n",
    "\n",
    "* Filtra todas las canciones cuya proporción \"Likes_to_Views\" sea menor a 0.01.\n",
    "* Guarda este subconjunto en un dataFrame llamado low_likes.\n",
    "* Dentro de low_likes, calcula el número total de canciones por \"Album_type\" y guarda el resultado en un dataFrame llamado low_likes_summary."
   ]
  },
  {
   "cell_type": "code",
   "execution_count": null,
   "metadata": {},
   "outputs": [],
   "source": [
    "# Filtrar canciones con proporción \"Likes_to_Views\" menor a 0.01\n",
    "low_likes = top_youtube[top_youtube['Likes_to_Views'] < 0.01]\n",
    "\n",
    "# Calcular el número total de canciones por \"Album_type\"\n",
    "low_likes_summary = low_likes.groupby('Album_type').size().reset_index(name='count')\n",
    "\n",
    "low_likes_summary.head()"
   ]
  },
  {
   "cell_type": "markdown",
   "metadata": {},
   "source": [
    "## Ejercicio 5: Análisis de Tendencias de Canciones con Baja Proporción de Likes\n",
    "\n",
    "**Utiliza el dataFrame low_likes.**\n",
    "\n",
    "Crea un gráfico de líneas que muestre:\n",
    "\n",
    "* La relación promedio entre \"Stream\" y \"Energy\" para las canciones en low_likes.\n",
    "* En el eje X: \"Energy\".\n",
    "* En el eje Y: promedio de \"Stream\".\n",
    "* Diferencia los tipos de álbum (\"Album_type\") con colores en el gráfico.\n",
    "* Asegúrate de incluir título, leyendas, y etiquetas de ejes."
   ]
  },
  {
   "cell_type": "code",
   "execution_count": null,
   "metadata": {},
   "outputs": [],
   "source": [
    "# Promedio de \"Stream\" por \"Energy\" y \"Album_type\" en el subconjunto `low_likes`\n",
    "trend_data = low_likes.groupby(['Album_type', 'Energy']).agg({'Stream': 'mean'}).reset_index()\n",
    "\n",
    "\n",
    "# Personalizar el gráfico\n",
    "plt.title('Relación entre Energy y Stream para canciones con baja proporción de Likes', fontsize=14)\n",
    "plt.xlabel('Energy', fontsize=12)\n",
    "plt.ylabel('Stream (promedio)', fontsize=12)\n",
    "plt.legend(title='Album Type')\n",
    "plt.grid(True)\n",
    "plt.tight_layout()\n",
    "sns.lineplot(data=trend_data, x='Energy', y='Stream', hue='Album_type', marker='o')\n"
   ]
  },
  {
   "cell_type": "markdown",
   "metadata": {},
   "source": [
    "## Ejercicio 6: Rango de valores de danceability\n",
    "\n",
    "**Utiliza el dataFrame low_likes.**\n",
    "\n",
    "* Muestra el rango de valores existente promedio de danceability para los diferentes tipos de canciones en spotify (columna Album_type) en un mapa de calor.\n",
    "* Asegúrate de incluir una barra de colores, etiquetas de ejes, y un título descriptivo."
   ]
  },
  {
   "cell_type": "code",
   "execution_count": null,
   "metadata": {},
   "outputs": [],
   "source": [
    "heatmap_data = low_likes.groupby('Album_type', as_index=False)['Danceability'].mean().set_index('Album_type')\n",
    "\n",
    "# Personalizar el mapa de calor\n",
    "plt.title('Mapa de calor de promedio de bailabilidad segun el tipo de canción')\n",
    "sns.heatmap(heatmap_data, annot=True, cmap='coolwarm', fmt='.2f')"
   ]
  },
  {
   "cell_type": "markdown",
   "metadata": {},
   "source": [
    "## Ejercicio 7: Análisis de Artistas\n",
    "\n",
    "**Utiliza el dataFrame low_likes.**\n",
    "\n",
    "* Identifica los tres artistas con el mayor total de \"Stream\" en este subconjunto.\n",
    "* Presenta un dataFrame con el nombre del artista y el total correspondiente, ordenados de mayor a menor.\n",
    "* Genera un gráfico de barras que compare estos totales entre los artistas identificados, en el eje X debe ir la variable stream y en el eje Y la variable Artist, para ello utiliza el método barplot() de la librería seaborn."
   ]
  },
  {
   "cell_type": "code",
   "execution_count": null,
   "metadata": {},
   "outputs": [],
   "source": [
    "# Identificar los tres artistas con el mayor total de \"Stream\"\n",
    "top_artists = low_likes.groupby('Artist')['Stream'].sum().nlargest(3).reset_index()\n",
    "\n",
    "# Personalizar el gráfico\n",
    "plt.title('Top 3 artistas con mayores visitas en Spotify')\n",
    "plt.xlabel('Artistas')\n",
    "plt.ylabel('Numero de visitas en Spotify')\n",
    "\n",
    "# Crear un gráfico de barras para comparar los totales\n",
    "sns.barplot(data=top_artists, x='Artist', y='Stream', palette='viridis')\n",
    "\n",
    "# Mostrar los datos del análisis\n",
    "print(top_artists)"
   ]
  }
 ],
 "metadata": {
  "kernelspec": {
   "display_name": "Python 3",
   "language": "python",
   "name": "python3"
  },
  "language_info": {
   "codemirror_mode": {
    "name": "ipython",
    "version": 3
   },
   "file_extension": ".py",
   "mimetype": "text/x-python",
   "name": "python",
   "nbconvert_exporter": "python",
   "pygments_lexer": "ipython3",
   "version": "3.9.9"
  }
 },
 "nbformat": 4,
 "nbformat_minor": 2
}
